{
  "nbformat": 4,
  "nbformat_minor": 0,
  "metadata": {
    "colab": {
      "provenance": []
    },
    "kernelspec": {
      "name": "python3",
      "display_name": "Python 3"
    },
    "language_info": {
      "name": "python"
    }
  },
  "cells": [
    {
      "cell_type": "markdown",
      "source": [
        "# 1° Preprocessing, recupération et formatage des données"
      ],
      "metadata": {
        "id": "uJ-YIlJi5Ipa"
      }
    },
    {
      "cell_type": "code",
      "source": [
        "import numpy as np\n",
        "#Fonction pour extraire les données d'entrainement ( ceux ayant une * devant)\n",
        "def extract_train_set(filename):\n",
        "  trainR = []\n",
        "  with open(filename, \"r\") as f:\n",
        "      lines = f.readlines()\n",
        "      for i, line in enumerate(lines):\n",
        "          if line.startswith(\"*\"):\n",
        "              # Recherche les valeurs entre accolades dans les 10 prochaines lignes\n",
        "              values = []\n",
        "              for j in range(i+1, i+11):\n",
        "                  if j >= len(lines) or \"}\" in lines[j-1]:\n",
        "                      break\n",
        "                  values += lines[j].strip().split()\n",
        "\n",
        "              # Stocke les valeurs dans une liste\n",
        "              newvalues = [values[i].replace('{', '').replace('}', '') for i in range(len(values))]\n",
        "              trainR.append(newvalues)\n",
        "          \n",
        "  return np.array(trainR, float)"
      ],
      "metadata": {
        "id": "HH36lJdReUGS"
      },
      "execution_count": null,
      "outputs": []
    },
    {
      "cell_type": "code",
      "source": [
        "#FOnction pour extraire les données de test\n",
        "def extract_test_set(filename):\n",
        "  trainR = []\n",
        "  with open(filename, \"r\") as f:\n",
        "      lines = f.readlines()\n",
        "      for i, line in enumerate(lines):\n",
        "          if line.startswith(\"C\"):\n",
        "              # Recherche les valeurs entre accolades dans les 10 prochaines lignes\n",
        "              values = []\n",
        "              for j in range(i+1, i+11):\n",
        "                  if j >= len(lines) or \"}\" in lines[j-1]:\n",
        "                      break\n",
        "                  values += lines[j].strip().split()\n",
        "\n",
        "              # Stocke les valeurs dans une liste\n",
        "              newvalues = [values[i].replace('{', '').replace('}', '') for i in range(len(values))]\n",
        "              trainR.append(newvalues)\n",
        "          \n",
        "  return np.array(trainR, float)"
      ],
      "metadata": {
        "id": "XwaFOOXtvsRK"
      },
      "execution_count": null,
      "outputs": []
    },
    {
      "cell_type": "code",
      "source": [
        "# Donnees d'entrainement ayant pour label rocks ( Encodé en -1 ), mise à la dernière colonne\n",
        "X_rocks_train = extract_train_set(\"sonar.rocks\")\n",
        "\n",
        "Y_rocks_train = np.array([-1 for i in range(X_rocks_train.shape[0])]).reshape((X_rocks_train.shape[0], 1))\n",
        "\n",
        "train_rocks_data = np.concatenate((X_rocks_train,Y_rocks_train), axis=1)\n",
        "train_rocks_data"
      ],
      "metadata": {
        "colab": {
          "base_uri": "https://localhost:8080/"
        },
        "id": "2bmBBtI6vXCv",
        "outputId": "cb835d60-e442-46ed-89f2-d2509cffc785"
      },
      "execution_count": null,
      "outputs": [
        {
          "output_type": "execute_result",
          "data": {
            "text/plain": [
              "array([[ 0.02  ,  0.0371,  0.0428, ...,  0.009 ,  0.0032, -1.    ],\n",
              "       [ 0.0453,  0.0523,  0.0843, ...,  0.0052,  0.0044, -1.    ],\n",
              "       [ 0.0262,  0.0582,  0.1099, ...,  0.0095,  0.0078, -1.    ],\n",
              "       ...,\n",
              "       [ 0.026 ,  0.0192,  0.0254, ...,  0.0044,  0.0077, -1.    ],\n",
              "       [ 0.0459,  0.0437,  0.0347, ...,  0.0117,  0.0056, -1.    ],\n",
              "       [ 0.0291,  0.04  ,  0.0771, ...,  0.0139,  0.0111, -1.    ]])"
            ]
          },
          "metadata": {},
          "execution_count": 407
        }
      ]
    },
    {
      "cell_type": "code",
      "source": [
        "# Données de Test pour label rocks ( Encodé en -1 ) mise à la dernière colone\n",
        "X_rocks_test = extract_test_set(\"sonar.rocks\")\n",
        "Y_rocks_test = np.array([-1 for i in range(X_rocks_test.shape[0])]).reshape((X_rocks_test.shape[0], 1))\n",
        "test_rocks_data = np.concatenate((X_rocks_test,Y_rocks_test), axis=1)\n",
        "test_rocks_data"
      ],
      "metadata": {
        "colab": {
          "base_uri": "https://localhost:8080/"
        },
        "id": "CQJpvDi8v3o8",
        "outputId": "6c2b44ed-9271-49d1-b9f8-d5ff863e066a"
      },
      "execution_count": null,
      "outputs": [
        {
          "output_type": "execute_result",
          "data": {
            "text/plain": [
              "array([[ 2.86e-02,  4.53e-02,  2.77e-02, ...,  5.10e-03,  6.20e-03,\n",
              "        -1.00e+00],\n",
              "       [ 1.23e-02,  3.09e-02,  1.69e-02, ...,  9.00e-04,  4.40e-03,\n",
              "        -1.00e+00],\n",
              "       [ 2.70e-02,  9.20e-03,  1.45e-02, ...,  7.00e-03,  8.80e-03,\n",
              "        -1.00e+00],\n",
              "       ...,\n",
              "       [ 2.53e-02,  8.08e-02,  5.07e-02, ...,  8.10e-03,  5.30e-03,\n",
              "        -1.00e+00],\n",
              "       [ 2.50e-03,  3.09e-02,  1.71e-02, ...,  2.80e-03,  1.40e-03,\n",
              "        -1.00e+00],\n",
              "       [ 1.81e-02,  1.46e-02,  2.60e-03, ...,  8.90e-03,  8.50e-03,\n",
              "        -1.00e+00]])"
            ]
          },
          "metadata": {},
          "execution_count": 408
        }
      ]
    },
    {
      "cell_type": "code",
      "source": [
        "# Donnees d'entrainement ayant pour label mines ( Encodé en 1 ) mise à la derniere colonne\n",
        "X_mines_train = extract_train_set(\"sonar.mines\")\n",
        "Y_mines_train = np.ones((X_mines_train.shape[0], 1))\n",
        "train_mines_data = np.concatenate((X_mines_train,Y_mines_train), axis=1)\n",
        "train_mines_data"
      ],
      "metadata": {
        "colab": {
          "base_uri": "https://localhost:8080/"
        },
        "id": "OpRsVz-TuetF",
        "outputId": "c55186be-fc07-4d2f-8324-ae3e445d2098"
      },
      "execution_count": null,
      "outputs": [
        {
          "output_type": "execute_result",
          "data": {
            "text/plain": [
              "array([[0.0491, 0.0279, 0.0592, ..., 0.0332, 0.0439, 1.    ],\n",
              "       [0.1313, 0.2339, 0.3059, ..., 0.0178, 0.0231, 1.    ],\n",
              "       [0.0629, 0.1065, 0.1526, ..., 0.0113, 0.0131, 1.    ],\n",
              "       ...,\n",
              "       [0.005 , 0.0017, 0.027 , ..., 0.0017, 0.0028, 1.    ],\n",
              "       [0.0323, 0.0101, 0.0298, ..., 0.0062, 0.0067, 1.    ],\n",
              "       [0.0303, 0.0353, 0.049 , ..., 0.0036, 0.0048, 1.    ]])"
            ]
          },
          "metadata": {},
          "execution_count": 409
        }
      ]
    },
    {
      "cell_type": "code",
      "source": [
        "# Données de Test pour label mines ( Encodé en 1 )\n",
        "X_mines_test = extract_test_set(\"sonar.mines\")\n",
        "Y_mines_test = np.ones((X_mines_test.shape[0], 1))\n",
        "test_mines_data = np.concatenate((X_mines_test,Y_mines_test), axis=1)\n",
        "test_mines_data"
      ],
      "metadata": {
        "colab": {
          "base_uri": "https://localhost:8080/"
        },
        "id": "R9UtudLd2bk9",
        "outputId": "05940b42-ce5d-4c5c-b9c6-fe68fc0a2a1c"
      },
      "execution_count": null,
      "outputs": [
        {
          "output_type": "execute_result",
          "data": {
            "text/plain": [
              "array([[0.0201, 0.0423, 0.0554, ..., 0.019 , 0.0096, 1.    ],\n",
              "       [0.0335, 0.0134, 0.0696, ..., 0.0126, 0.0156, 1.    ],\n",
              "       [0.0307, 0.0523, 0.0653, ..., 0.0124, 0.0055, 1.    ],\n",
              "       ...,\n",
              "       [0.0187, 0.0346, 0.0168, ..., 0.0193, 0.0157, 1.    ],\n",
              "       [0.0522, 0.0437, 0.018 , ..., 0.0077, 0.0031, 1.    ],\n",
              "       [0.026 , 0.0363, 0.0136, ..., 0.0061, 0.0115, 1.    ]])"
            ]
          },
          "metadata": {},
          "execution_count": 410
        }
      ]
    },
    {
      "cell_type": "code",
      "source": [
        "# Concatenation des données d'entrainement et un shufle pour les mélanger\n",
        "\n",
        "train_data = np.concatenate((train_rocks_data, train_mines_data), axis=0)\n",
        "np.random.shuffle(train_data)\n",
        "train_data.shape"
      ],
      "metadata": {
        "colab": {
          "base_uri": "https://localhost:8080/"
        },
        "id": "5nnY87hFQ51X",
        "outputId": "2023e6cf-a382-4dd8-f157-d722ce660a6d"
      },
      "execution_count": null,
      "outputs": [
        {
          "output_type": "execute_result",
          "data": {
            "text/plain": [
              "(104, 61)"
            ]
          },
          "metadata": {},
          "execution_count": 411
        }
      ]
    },
    {
      "cell_type": "code",
      "source": [
        "# Concatenation des données de test et un shufle poue melanger\n",
        "test_data = np.concatenate((test_rocks_data, test_mines_data), axis=0)\n",
        "np.random.shuffle(test_data)\n",
        "test_data.shape"
      ],
      "metadata": {
        "colab": {
          "base_uri": "https://localhost:8080/"
        },
        "id": "G5aXxEpU4VZM",
        "outputId": "b1a42d67-733a-49e7-ac24-2e9c8d89716f"
      },
      "execution_count": null,
      "outputs": [
        {
          "output_type": "execute_result",
          "data": {
            "text/plain": [
              "(104, 61)"
            ]
          },
          "metadata": {},
          "execution_count": 412
        }
      ]
    },
    {
      "cell_type": "markdown",
      "source": [
        "# 2° Entrainement sur l'ensemble \"train\" et test sur l'ensemble \"test\""
      ],
      "metadata": {
        "id": "s0Qk8yA45X2z"
      }
    },
    {
      "cell_type": "code",
      "source": [
        "# Fonction pour Entrainement avec la version incrementale \n",
        "def signe(a):\n",
        "    return -1 if a < 0 else 1\n",
        "def perceptron_training(X, t, lr):\n",
        "  iter = 0\n",
        "  w_eleve = np.random.uniform(0, 0, size=(X.shape[1]))\n",
        "  y = [0 for i in range(len(t))]\n",
        "  iter = 0\n",
        "  while not all(y[i] == t[i] for i in range(len(t))):\n",
        "    iter = iter + 1\n",
        "    for i in range(len(X)):\n",
        "      sample = X[i] \n",
        "      value = w_eleve @ sample\n",
        "      y[i] = signe(value)\n",
        "      if y[i] != t[i]:\n",
        "        w_eleve += lr * (t[i] - y[i]) * sample\n",
        "  return w_eleve"
      ],
      "metadata": {
        "id": "af-B8-u0Sbsu"
      },
      "execution_count": null,
      "outputs": []
    },
    {
      "cell_type": "code",
      "source": [
        "# Ajout du biais de 1 à la première colonne\n",
        "train_data = np.hstack((np.ones((len(train_data),1),dtype=float), train_data))\n",
        "\n",
        "# Selection des features, toutes les colones sauf la dernière\n",
        "X = train_data[:, 0:(train_data.shape[1]-1)]\n",
        "\n",
        "# Selection des labels\n",
        "y = train_data[:, -1]\n",
        "\n",
        "# Les poids \n",
        "weights = perceptron_training(X, y, 0.5)\n",
        "\n",
        "print(train_data)\n"
      ],
      "metadata": {
        "colab": {
          "base_uri": "https://localhost:8080/"
        },
        "id": "-zA5j-4X6yr-",
        "outputId": "550af3a6-8b33-4f92-fb0b-46b3c1575913"
      },
      "execution_count": null,
      "outputs": [
        {
          "output_type": "stream",
          "name": "stdout",
          "text": [
            "[[ 1.      0.0454  0.0472 ...  0.0154  0.0053  1.    ]\n",
            " [ 1.      0.0108  0.0086 ...  0.0026  0.0027 -1.    ]\n",
            " [ 1.      0.024   0.0218 ...  0.0066  0.0023 -1.    ]\n",
            " ...\n",
            " [ 1.      0.0352  0.0116 ...  0.0073  0.0067 -1.    ]\n",
            " [ 1.      0.0453  0.0523 ...  0.0052  0.0044 -1.    ]\n",
            " [ 1.      0.0293  0.0644 ...  0.0095  0.0011 -1.    ]]\n"
          ]
        }
      ]
    },
    {
      "cell_type": "code",
      "source": [
        "print(weights)"
      ],
      "metadata": {
        "colab": {
          "base_uri": "https://localhost:8080/"
        },
        "id": "7WjhktMyC9hi",
        "outputId": "cad4b00d-1385-46c7-e2fa-ee2bb9fb49a1"
      },
      "execution_count": null,
      "outputs": [
        {
          "output_type": "stream",
          "name": "stdout",
          "text": [
            "[ -52.       61.2859  175.0516   57.5819  104.7625   27.1271    7.8502\n",
            "  -30.7493  -85.7137   27.1144   50.7982   -2.5159   15.9056   14.5663\n",
            "   -1.6963   37.9374 -120.3519  -18.5575  107.9641  -18.907    -3.5528\n",
            "  -55.7273   71.4971  -37.4826   68.1429  -15.1219   -6.8379   16.0772\n",
            "  -10.3486  -27.0846  124.1825 -173.3719  133.2228 -115.1454   68.4841\n",
            "  -36.0648   -3.9529  -30.0267  -16.8942   98.961   -70.6048   19.0249\n",
            "    6.6908  -14.3052  -53.1256   76.658    49.2139  -74.7369  123.3283\n",
            "  177.0515 -102.7079   22.2556   39.1687   34.2001   64.5751  -12.6282\n",
            "   -7.5391  -35.2616   17.7347   -7.4889  -20.4678]\n"
          ]
        }
      ]
    },
    {
      "cell_type": "code",
      "source": [
        "def perceptron_test(X, t, w):\n",
        "  test_error_count = 0\n",
        "  for i in range(len(X)):\n",
        "     sample = X[i] \n",
        "     value = w @ sample\n",
        "     y_pred = signe(value)\n",
        "     if y_pred != t[i]:\n",
        "\n",
        "       test_error_count += 1\n",
        "  Eg = test_error_count\n",
        "  return Eg"
      ],
      "metadata": {
        "id": "-YDzk2VcDgoP"
      },
      "execution_count": null,
      "outputs": []
    },
    {
      "cell_type": "code",
      "source": [
        "# test de la fonction\n",
        "\n",
        "# Ajout du biais de 1 à la première colonne\n",
        "test_data = np.hstack((np.ones((len(test_data),1),dtype=float), test_data))\n",
        "# Selection des features, toutes les colones sauf la dernière\n",
        "X_test = test_data[:, 0:(train_data.shape[1]-1)]\n",
        "\n",
        "# Selection des labels\n",
        "y_test = test_data[:, -1]\n",
        "\n",
        "Ea = perceptron_test(X, y, weights)\n",
        "Eg = perceptron_test(X_test, y_test, weights)\n"
      ],
      "metadata": {
        "id": "LyjFN-fXs-ot"
      },
      "execution_count": null,
      "outputs": []
    },
    {
      "cell_type": "code",
      "source": [
        "print(Ea)\n",
        "print(Eg)"
      ],
      "metadata": {
        "colab": {
          "base_uri": "https://localhost:8080/"
        },
        "id": "BQPo47l4wUfN",
        "outputId": "e8383a05-fb1a-4edf-e468-d5d007d72835"
      },
      "execution_count": null,
      "outputs": [
        {
          "output_type": "stream",
          "name": "stdout",
          "text": [
            "0\n",
            "25\n"
          ]
        }
      ]
    },
    {
      "cell_type": "code",
      "source": [
        "\n",
        "# fonction de calcul de la stabilité\n",
        "\n",
        "def perceptron_stability(X, y, w):\n",
        "    distances = []\n",
        "    for i in range(len(X)):\n",
        "        x = X[i]\n",
        "        distance = w @ x / np.linalg.norm(w)\n",
        "        if y[i] == -1:\n",
        "            distance *= -1\n",
        "        distances.append(distance)\n",
        "    return distances\n"
      ],
      "metadata": {
        "id": "1V7KN8pG0Izk"
      },
      "execution_count": null,
      "outputs": []
    },
    {
      "cell_type": "code",
      "source": [
        "import matplotlib.pyplot as plt\n",
        "# Tracage du graphique des stabilitées\n",
        "print(perceptron_stability(X_test,y_test,weights ))\n",
        "stabilities = perceptron_stability(X_test,y_test,weights )\n",
        "print(len([x for x in stabilities if x < 0]))\n",
        "fig = plt.figure(figsize = (10, 5))\n",
        "\n",
        "plt.scatter([i for i in range(len([x for x in stabilities if x < 0]))], [x for x in stabilities if x < 0], color='red')\n",
        "plt.scatter([i for i in range(len([x for x in stabilities if x > 0]))], [x for x in stabilities if x > 0], color='blue')\n",
        "plt.plot([i for i in range(len(stabilities))], [0 for i in range(len(stabilities))] , color='black')"
      ],
      "metadata": {
        "colab": {
          "base_uri": "https://localhost:8080/",
          "height": 395
        },
        "id": "mxr7Fq0bRtjG",
        "outputId": "43bd4bd6-796b-4574-9306-722869395c58"
      },
      "execution_count": null,
      "outputs": [
        {
          "output_type": "stream",
          "name": "stdout",
          "text": [
            "[0.024244432504899292, 0.022528324448265802, 0.010304254885183375, 0.14949314923630122, 0.05447720179610837, 0.04912976590619179, 0.012186971187069798, 0.048325293132305935, 0.09985982013224523, 0.05611317696185642, -0.029499578439165994, 0.05171232609091858, 0.06354107554446442, 0.060649755790594506, 0.07480793598048849, -0.05394962496581841, 0.05621808210900775, 0.03185092843701816, -0.006678340612844114, 0.04361480555398364, 0.01669580728835542, 0.06571880972249318, -0.014103641405700123, -0.03843609399934802, 0.011939422277838013, 0.11579026172601702, -0.015833735269505822, 0.019047064607411308, -0.05519736200608784, -0.03723020881230185, 0.0009482968049971773, -0.00368522854884673, -0.0076316221746529885, 0.0488048959827437, 0.0759913157502285, 0.010632016548240072, 0.0745503150673548, 0.03056250109868107, 0.03386801601015887, 0.0975879941489677, 0.06080230665639073, 0.0426812768088286, 0.02281058925514463, -0.0028603656496013763, 0.047266008854982104, -0.01287911538105033, -0.05054083495685372, 0.02029161933400765, 0.05507685231533583, -0.09843971349368687, 0.04441957941830811, -0.038438685093656055, 0.09796578282252574, -0.005617868666312788, 0.05473449031198213, 0.059433496674485, -0.04475238249907908, 0.15680396694880036, 0.02250558496902113, 0.029501081628130203, 0.11595056500931585, 0.068824212530936, 0.05034686907308428, -0.000594153014885456, 0.15293721839304333, 0.1128882787487431, 0.03459605013857559, 0.08070861475089033, 0.06974251827930261, 0.05688443101821879, -0.010308146691906533, 0.15597484399402722, 0.021891303024789234, 0.12836901740922324, 0.045071954556908586, 0.021916079250314732, 0.032000265422296975, 0.11413018968925766, 0.12451166066873917, 0.021605972916792986, 0.10821233018588011, 0.033479121862415126, 0.030263573703572355, 0.07987761225371788, 0.026940134996285586, -0.028524522170479818, 0.05729710267798429, 0.02388232146819841, 0.032605992665531505, 0.015427188129280917, 0.038738803885763146, -0.001613225670996247, 0.03187881232514019, 0.046181913149968355, -0.007338630398930477, 0.04410680246136338, -0.004518985705364455, 0.13438440892615564, -0.13016508746537778, 0.020111911989772153, 0.11546484600435959, -0.027446680924518296, 0.028970556564442272, 0.09724238736590188]\n",
            "25\n"
          ]
        },
        {
          "output_type": "execute_result",
          "data": {
            "text/plain": [
              "[<matplotlib.lines.Line2D at 0x7fc79be49040>]"
            ]
          },
          "metadata": {},
          "execution_count": 420
        },
        {
          "output_type": "display_data",
          "data": {
            "text/plain": [
              "<Figure size 720x360 with 1 Axes>"
            ],
            "image/png": "[encoded data removed]"
          },
          "metadata": {
            "needs_background": "light"
          }
        }
      ]
    },
    {
      "cell_type": "code",
      "source": [],
      "metadata": {
        "id": "23UCTlNrZ5Rn"
      },
      "execution_count": null,
      "outputs": []
    },
    {
      "cell_type": "code",
      "source": [
        "\n",
        "\n",
        "# Tracer le graphique de stabilité \n",
        "plt.hist(stabilities, bins=20, density=True)\n",
        "plt.xlabel('Stability')\n",
        "plt.ylabel('Density')\n",
        "plt.show()"
      ],
      "metadata": {
        "colab": {
          "base_uri": "https://localhost:8080/",
          "height": 279
        },
        "id": "kNytoxRPSx7T",
        "outputId": "54c936b8-950a-4427-a874-5adeed9fd449"
      },
      "execution_count": null,
      "outputs": [
        {
          "output_type": "display_data",
          "data": {
            "text/plain": [
              "<Figure size 432x288 with 1 Axes>"
            ],
            "image/png": "[encoded data removed]"
          },
          "metadata": {
            "needs_background": "light"
          }
        }
      ]
    },
    {
      "cell_type": "code",
      "source": [],
      "metadata": {
        "id": "TsGzBHz_Z4PD"
      },
      "execution_count": null,
      "outputs": []
    },
    {
      "cell_type": "markdown",
      "source": [
        "# Apprentissage sur le \"test\" et teste sur l'ensemble de \"train\""
      ],
      "metadata": {
        "id": "aJTXIvdg3ZSE"
      }
    },
    {
      "cell_type": "code",
      "source": [
        "# Apprentissage sur le \"test\"\n",
        "\n",
        "weights = perceptron_training(X_test, y_test, 0.5)\n",
        "print(weights)"
      ],
      "metadata": {
        "colab": {
          "base_uri": "https://localhost:8080/"
        },
        "id": "fhH3huPC3jY2",
        "outputId": "7021765c-46bf-4bd5-b354-b52b1887a536"
      },
      "execution_count": null,
      "outputs": [
        {
          "output_type": "stream",
          "name": "stdout",
          "text": [
            "[-1.60000e+01  6.53590e+00 -9.71200e+00 -1.04907e+01  8.10300e-01\n",
            " -6.88600e-01 -3.03922e+01 -4.11110e+01 -1.09807e+01  2.83510e+01\n",
            "  6.15510e+00  3.84440e+01  3.00299e+01  7.20610e+00 -1.14930e+00\n",
            " -1.67055e+01  1.68929e+01  2.07440e+00 -2.27381e+01  1.73780e+00\n",
            "  7.70790e+00  5.00870e+00  4.49400e+00  1.07131e+01  1.35888e+01\n",
            " -1.25685e+01 -1.38336e+01  2.03720e+00  5.11530e+00 -5.87060e+00\n",
            "  4.95660e+00 -7.83990e+00 -1.63410e+00  2.78700e+00 -2.41648e+01\n",
            "  1.87566e+01 -7.76490e+00 -3.56977e+01 -7.00100e-01  2.75652e+01\n",
            " -2.12953e+01  1.84187e+01  4.89840e+00  2.38943e+01  2.84341e+01\n",
            "  8.52600e+00  4.92480e+00  1.40814e+01  1.06791e+01  6.59000e-01\n",
            " -5.78400e-01  7.05570e+00  4.93870e+00  1.35210e+00  2.95400e-01\n",
            "  2.35200e-01  2.79560e+00  1.75240e+00  9.88200e-01  4.96590e+00\n",
            " -1.21000e-02]\n"
          ]
        }
      ]
    },
    {
      "cell_type": "code",
      "source": [
        "# Erreurs d'apprentissage et de généralisation\n",
        "\n",
        "Ea = perceptron_test(X_test, y_test, weights)\n",
        "Eg = perceptron_test(X, y, weights)\n",
        "print(Ea)\n",
        "print(Eg)"
      ],
      "metadata": {
        "colab": {
          "base_uri": "https://localhost:8080/"
        },
        "id": "penJDsYV1GiN",
        "outputId": "8366b162-07db-4f9e-9b72-7fe1f789c20a"
      },
      "execution_count": null,
      "outputs": [
        {
          "output_type": "stream",
          "name": "stdout",
          "text": [
            "0\n",
            "29\n"
          ]
        }
      ]
    },
    {
      "cell_type": "code",
      "source": [
        "# Stabilité sur les données de test ( ensemble d'entrainement )\n",
        "print(perceptron_stability(X,y,weights ))\n",
        "stabilities2 = perceptron_stability(X,y,weights )\n",
        "print(len([x for x in stabilities2 if x < 0]))"
      ],
      "metadata": {
        "colab": {
          "base_uri": "https://localhost:8080/"
        },
        "id": "cklhfv5K4tkd",
        "outputId": "68d5e2e8-1a66-45e7-bb95-b5a456615e92"
      },
      "execution_count": null,
      "outputs": [
        {
          "output_type": "stream",
          "name": "stdout",
          "text": [
            "[0.06743854607985274, 0.047615240203304966, -0.028392076991455673, -0.0005411816901992458, 0.1092950501369432, 0.2692509273186464, -4.2480049257098495e-05, 0.01922753170230682, -0.15023750671358022, 0.2077959690598923, 0.06853992902953508, -0.02008721048988578, 0.0022187524412151825, 0.14856448948052423, -0.2284570734289486, 0.06092598712649443, 0.17233984531041305, 0.11203090490911372, 0.24173667729668058, 0.09155916720917386, 0.0859031776607272, 0.38421753141531756, 0.1785376527589327, -0.060816622070578724, -0.07697369069818209, 0.035024883630676386, 0.03353269476008699, 0.4489869052878224, 0.020053139144296187, 0.051235759254611435, -0.19764251065486102, 0.01842872528174, 0.21839919143004094, 0.03429209811329263, 0.06889877877874948, 0.17915134144465755, 0.019252364734588308, -0.013228517780059484, 0.2628007273988049, 0.002699634010048125, -0.2966314878686875, 0.17386943250490283, 0.014436892996568727, 0.04170665532308206, -0.3066707365955236, 0.11499639268398988, 0.044579224473466544, -0.23493426751880142, -0.15122945955469835, 0.04209427525494533, 0.22859279811944427, 0.049431635231882314, 0.052532360681471296, 0.18356657873014018, -0.03893673431241149, 0.16668527478043077, -0.09071020101044477, 0.25462342277802336, -0.07420440037168541, -0.012068169502275239, 0.07226730513529905, 0.12934402683268348, 0.257312232261792, 0.11005210297136582, 0.14448669217154472, 0.09690847839528306, 0.23386926566049224, 0.0050482647756798175, 0.27889238403943767, 0.14568818428202468, 0.0426931442440725, 0.06900070221353356, 0.045180906633803426, 0.09548270015771154, 0.1712354819112764, 0.44676898120040875, 0.0966491702497181, 0.271186281538543, -0.11406645159403773, 0.14630288860953378, -0.0027301702423495468, 0.19520385581459532, 0.10613984983392061, 0.08819756791314635, 0.14104874467600406, -0.016182186819876147, -0.06679163960293696, -0.051761932871815075, 0.04817615896754103, 0.35492470221449807, -0.06586847185836396, -0.07605513432405002, -0.0022005467417000033, -0.13532468828927713, 0.07308622195005808, 0.014539235547914198, -0.05424222802125156, 0.17060593988674422, 0.08188942497725459, 0.4122169916445105, 0.19905799374567976, 0.038798894531763495, -0.05494889167691754, 0.2233601532071657]\n",
            "29\n"
          ]
        }
      ]
    },
    {
      "cell_type": "markdown",
      "source": [
        "# Partie II, Algorithme d'apprentissage Pocket"
      ],
      "metadata": {
        "id": "XHoORbVs6VgA"
      }
    },
    {
      "cell_type": "code",
      "source": [
        "#Fonction pour intitialiser les poids en fonction de Hebb\n",
        "def hebb_init(X, t):\n",
        "    n_features = X.shape[1]\n",
        "    n_samples = X.shape[0]\n",
        "    w = np.zeros(n_features)\n",
        "    for i in range(n_samples):\n",
        "        x = X[i]\n",
        "        y = t[i]\n",
        "        w += x * y\n",
        "    return w\n",
        "\n",
        "# Cette fonction prend un booleen pour specifier si on veut initialiser les poids avec la methode de Hebb\n",
        "def pocket_training(X, t,lr, max_errors, init_hebb=False):\n",
        "  iter = 0\n",
        " \n",
        "  # Initialisation de Hebb ou Aléatoire en fonction de la variable init_hebb\n",
        "\n",
        "  if init_hebb:\n",
        "    w_pocket = hebb_init(X,t)\n",
        "  else:\n",
        "    w_pocket = np.random.uniform(0, 0, size=(X.shape[1],))\n",
        "  print(w_pocket) \n",
        "  w_best = np.zeros(X.shape[1])\n",
        "  error_best = len(t)\n",
        "  y = [0 for i in range(len(t))]\n",
        "  iter = 0\n",
        "  while not all(y[i] == t[i] for i in range(len(t))):\n",
        "    iter = iter + 1\n",
        "    error = 0\n",
        "    for i in range(len(X)):\n",
        "      sample = X[i] \n",
        "      value = w_pocket @ sample\n",
        "      y[i] = signe(value)\n",
        "      if y[i] != t[i]:\n",
        "        w_pocket += lr * (t[i] - y[i]) * sample\n",
        "        error += 1\n",
        "  \n",
        "    # sauvegarde du meilleur resultat a la fin d'une iteration\n",
        "    if error < error_best:\n",
        "      w_best = w_pocket.copy()\n",
        "      error_best = error\n",
        "    \n",
        "    # Stop de l'apprentissage en fonction d'un nombre d'erreurs autorisées\n",
        "    if error_best <= max_errors:\n",
        "      break\n",
        "  return w_pocket"
      ],
      "metadata": {
        "id": "cCQf9arw6NdU"
      },
      "execution_count": null,
      "outputs": []
    },
    {
      "cell_type": "code",
      "source": [
        "# Apprentissage sur l'ensemble de \"train\"\n",
        "pocketW = pocket_training(X, y, 0.001, 8, True)"
      ],
      "metadata": {
        "colab": {
          "base_uri": "https://localhost:8080/"
        },
        "id": "L5Sj4AZ5_XHc",
        "outputId": "c2853ff6-f2a4-4f48-bf1e-0592f803d1e0"
      },
      "execution_count": null,
      "outputs": [
        {
          "output_type": "stream",
          "name": "stdout",
          "text": [
            "[-6.00000e+00  3.99500e-01  6.88400e-01  5.90800e-01  1.02930e+00\n",
            "  1.08770e+00  3.66900e-01  7.87000e-02 -1.05000e-01  1.45720e+00\n",
            "  1.95770e+00  2.50780e+00  2.66180e+00  2.56090e+00  1.15460e+00\n",
            " -8.56500e-01 -3.41260e+00 -3.68100e+00 -3.10230e+00 -8.32500e-01\n",
            " -1.73700e-01  3.33800e-01  2.26400e-01 -1.17980e+00 -1.85220e+00\n",
            " -2.66150e+00 -2.30920e+00 -1.11900e+00 -8.62800e-01 -1.35940e+00\n",
            " -2.13850e+00 -4.29680e+00 -3.63330e+00 -5.04920e+00 -7.43640e+00\n",
            " -9.54810e+00 -1.05443e+01 -8.22550e+00 -3.69860e+00 -1.98500e+00\n",
            " -3.29510e+00 -1.48960e+00  5.10000e-03  4.72300e-01  1.21940e+00\n",
            "  3.11120e+00  2.65740e+00  2.08990e+00  1.65250e+00  1.16620e+00\n",
            "  9.88000e-02  2.14100e-01  1.73800e-01  4.00000e-04  3.94000e-02\n",
            " -1.18000e-02  6.00000e-04 -6.10000e-02  6.50000e-02 -5.00000e-04\n",
            " -1.87000e-02]\n"
          ]
        }
      ]
    },
    {
      "cell_type": "code",
      "source": [
        "# Test de la generalisation sur l'ensemble de \"test\"\n",
        "pocket_Ea = perceptron_test(X, y, pocketW)\n",
        "pocket_Eg = perceptron_test(X_test, y_test, pocketW)\n",
        "print(pocket_Ea)\n",
        "print(pocket_Eg)"
      ],
      "metadata": {
        "colab": {
          "base_uri": "https://localhost:8080/"
        },
        "id": "HzxJJDPXAJo-",
        "outputId": "3a123b60-2935-43bc-dc59-326e3e87f30f"
      },
      "execution_count": null,
      "outputs": [
        {
          "output_type": "stream",
          "name": "stdout",
          "text": [
            "12\n",
            "24\n"
          ]
        }
      ]
    },
    {
      "cell_type": "code",
      "source": [
        "#Apprentissage sur l'ensemble de test\n",
        "pocketW = pocket_training(X_test, y_test, 0.001, 8, True)"
      ],
      "metadata": {
        "colab": {
          "base_uri": "https://localhost:8080/"
        },
        "id": "1LvTPviyD1eQ",
        "outputId": "f03bc50c-a908-4c5d-ae76-34b8d1c001f0"
      },
      "execution_count": null,
      "outputs": [
        {
          "output_type": "stream",
          "name": "stdout",
          "text": [
            "[20.      1.302   1.4276  1.5519  2.1395  2.521   2.7163  3.0936  5.3296\n",
            "  8.9134 10.4512 12.6885 12.216  10.3942  8.3528  7.777   9.2692  9.2881\n",
            " 10.2259 15.2815 20.243  21.1503 19.1806 16.8366 14.9347 13.4006 13.4856\n",
            " 13.7462 14.6296 12.1708 10.4643  6.4539  7.3397  6.3077  4.8469  2.8301\n",
            "  1.2148  2.9353  6.6669  8.8917  6.3231  6.281   8.9263  9.715   9.3326\n",
            " 10.3045  8.0657  5.0555  3.8831  2.1758  0.697   0.7398  0.5898  0.3569\n",
            "  0.3899  0.2822  0.2681  0.1716  0.293   0.2791  0.2036]\n"
          ]
        }
      ]
    },
    {
      "cell_type": "code",
      "source": [
        "# Test de la generalisation sur l'ensemble de \"Train\"\n",
        "pocket_Ea = perceptron_test(X_test, y_test, pocketW)\n",
        "pocket_Eg = perceptron_test(X, y, pocketW)\n",
        "print(pocket_Ea)\n",
        "print(pocket_Eg)"
      ],
      "metadata": {
        "colab": {
          "base_uri": "https://localhost:8080/"
        },
        "id": "zPZxP1vlEjGv",
        "outputId": "cc2d360b-7632-4f8b-907f-7df23278e8f0"
      },
      "execution_count": null,
      "outputs": [
        {
          "output_type": "stream",
          "name": "stdout",
          "text": [
            "10\n",
            "29\n"
          ]
        }
      ]
    },
    {
      "cell_type": "markdown",
      "source": [
        "# Partie 3; Apprentissage sur « train + test »"
      ],
      "metadata": {
        "id": "FQHKwlIlHYFN"
      }
    },
    {
      "cell_type": "code",
      "source": [
        "test_data = test_data[:,1:]\n",
        "train_data = train_data[:,1:]\n",
        "all_data = np.concatenate((train_data, test_data), axis=0)\n",
        "\n",
        "\n",
        "all_data = np.hstack((np.ones((len(all_data),1),dtype=float), all_data))\n",
        "X_all_train = all_data[:, 0:(all_data.shape[1]-1)]\n",
        "\n",
        "# Selection des labels\n",
        "y_all_train = all_data[:, -1]\n",
        "\n"
      ],
      "metadata": {
        "id": "C94T6RLMHiFs"
      },
      "execution_count": null,
      "outputs": []
    },
    {
      "cell_type": "code",
      "source": [
        "W = pocket_training(X_all_train,y_all_train, 0.5, 8, False)\n",
        "print(W)"
      ],
      "metadata": {
        "colab": {
          "base_uri": "https://localhost:8080/"
        },
        "id": "wxJv7q_hG-Zn",
        "outputId": "ecfd7b2e-6557-4e2b-8360-7df6767d233d"
      },
      "execution_count": null,
      "outputs": [
        {
          "output_type": "stream",
          "name": "stdout",
          "text": [
            "[0. 0. 0. 0. 0. 0. 0. 0. 0. 0. 0. 0. 0. 0. 0. 0. 0. 0. 0. 0. 0. 0. 0. 0.\n",
            " 0. 0. 0. 0. 0. 0. 0. 0. 0. 0. 0. 0. 0. 0. 0. 0. 0. 0. 0. 0. 0. 0. 0. 0.\n",
            " 0. 0. 0. 0. 0. 0. 0. 0. 0. 0. 0. 0. 0.]\n",
            "[ -79.      145.1217  -24.5191 -274.6785  132.9725  -55.4121   84.3985\n",
            "  -92.3059 -110.9087  145.1383  -74.7851  102.3011  117.2315  -63.3528\n",
            "  -16.4974   53.1187  -74.6675  -60.5422   78.7351  -48.064   107.677\n",
            " -141.0971  190.1795 -141.8579  161.2268  -84.4023   -1.4776   35.1943\n",
            "  -30.4847   15.164    96.8971 -182.2842   79.6496   36.2904  -73.6202\n",
            "   59.0502  -14.1737  -79.588    21.9408   72.7364 -103.6098    7.3676\n",
            "   64.7951    2.373    22.813     1.8232   14.2925   25.4679  137.9532\n",
            "  363.6212 -884.455   330.587   520.1526  267.4684  126.7907   54.1006\n",
            "   59.8888  -89.7102  271.6236  176.9252   17.2895]\n"
          ]
        }
      ]
    },
    {
      "cell_type": "code",
      "source": [
        "Ea = perceptron_test(X_all_train, y_all_train, W)\n",
        "print(Ea)"
      ],
      "metadata": {
        "colab": {
          "base_uri": "https://localhost:8080/"
        },
        "id": "SQxVxzxLMCBL",
        "outputId": "d066e7e0-4bbf-4f88-cbe5-f8f4b4fda7df"
      },
      "execution_count": null,
      "outputs": [
        {
          "output_type": "stream",
          "name": "stdout",
          "text": [
            "38\n"
          ]
        }
      ]
    },
    {
      "cell_type": "code",
      "source": [
        "#Si l'algorithme converge, cela signifie que les données sont linéairement séparables.\n",
        "def is_linearly_separable(X, y):\n",
        "    # Entraînement du perceptron\n",
        "    w = W\n",
        "    # Vérification si l'algorithme a convergé\n",
        "    y_pred = np.sign(np.dot(X, w))\n",
        "    return np.array_equal(y, y_pred)\n",
        "\n",
        "print(is_linearly_separable(X_all_train,y_all_train))"
      ],
      "metadata": {
        "colab": {
          "base_uri": "https://localhost:8080/"
        },
        "id": "0q6gBefrMzj_",
        "outputId": "93569340-09a5-4fa2-f591-a91e2c0c2376"
      },
      "execution_count": null,
      "outputs": [
        {
          "output_type": "stream",
          "name": "stdout",
          "text": [
            "False\n"
          ]
        }
      ]
    }
  ]
}